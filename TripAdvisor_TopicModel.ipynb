{
  "nbformat": 4,
  "nbformat_minor": 0,
  "metadata": {
    "kernelspec": {
      "display_name": "Python 3",
      "language": "python",
      "name": "python3"
    },
    "language_info": {
      "codemirror_mode": {
        "name": "ipython",
        "version": 3
      },
      "file_extension": ".py",
      "mimetype": "text/x-python",
      "name": "python",
      "nbconvert_exporter": "python",
      "pygments_lexer": "ipython3",
      "version": "3.7.6"
    },
    "colab": {
      "name": "TripAdvisor_TopicModel.ipynb",
      "provenance": [],
      "collapsed_sections": [],
      "toc_visible": true
    }
  },
  "cells": [
    {
      "cell_type": "markdown",
      "metadata": {
        "id": "-3bJPWEqroL7"
      },
      "source": [
        "# 1. Data Collection"
      ]
    },
    {
      "cell_type": "code",
      "metadata": {
        "id": "CVGRvsukroL9"
      },
      "source": [
        "from bs4 import BeautifulSoup\n",
        "import requests\n",
        "import re\n",
        "\n",
        "\n",
        "def get_soup(url):\n",
        "\n",
        "    headers = {'User-Agent': 'Mozilla/5.0 (X11; Ubuntu; Linux x86_64; rv:57.0) Gecko/20100101 Firefox/57.0'}\n",
        "\n",
        "    r = s.get(url, headers=headers)\n",
        "\n",
        "    #with open('temp.html', 'wb') as f:\n",
        "    #    f.write(r.content)\n",
        "    #    webbrowser.open('temp.html')\n",
        "\n",
        "    if r.status_code != 200:\n",
        "        print('status code:', r.status_code)\n",
        "    else:\n",
        "        return BeautifulSoup(r.text, 'html.parser')\n",
        "\n",
        "def parse(url, response):\n",
        "\n",
        "    if not response:\n",
        "        print('no response:', url)\n",
        "        return\n",
        "\n",
        "    # get number of reviews\n",
        "    num_reviews = response.find('span', class_='reviews_header_count').text\n",
        "    num_reviews = num_reviews[1:-1] # remove `( )`\n",
        "    num_reviews = num_reviews.replace(',', '') # remove `,`\n",
        "    num_reviews = int(num_reviews)\n",
        "    print('num_reviews:', num_reviews, type(num_reviews))\n",
        "\n",
        "    # create template for urls to pages with reviews\n",
        "    url = url.replace('.html', '-or{}.html')\n",
        "    print('template:', url)\n",
        "\n",
        "    # load pages with reviews\n",
        "    for offset in range(0, num_reviews, 5):\n",
        "        print('url:', url.format(offset))\n",
        "        url_ = url.format(offset)\n",
        "        parse_reviews(url_, get_soup(url_))\n",
        "        return # for test only - to stop after first page\n",
        "\n",
        "def parse_reviews(url, response):\n",
        "    print('review:', url)\n",
        "\n",
        "    if not response:\n",
        "        print('no response:', url)\n",
        "        return\n",
        "\n",
        "    # get every review\n",
        "    for idx, review in enumerate(response.find_all('div', class_='review-container')):\n",
        "        item = {\n",
        "            'restaurant_name': response.find('h1', class_='ui_header').text,\n",
        "            'review_title': review.find('span', class_='noQuotes').text,\n",
        "            'review_body': review.find('p', class_='partial_entry').text,\n",
        "            'review_date': review.find('span', class_='ratingDate')['title'],#.text,#[idx],\n",
        "            'num_reviews_reviewer': review.find('span', class_='badgeText').text,\n",
        "            'reviewer_name': review.find('div', class_='info_text').text,\n",
        "            'bubble_rating': review.select_one(' span.ui_bubble_rating')['class'][1][7:],\n",
        "        }\n",
        "\n",
        "        results.append(item) # <--- add to global list\n",
        "\n",
        "        #~ yield item\n",
        "        for key,val in item.items():\n",
        "            print(key, ':', val)\n",
        "        print('----')\n",
        "        #return # for test only - to stop after first review\n",
        "\n",
        "\n",
        "# --- main ---\n",
        "\n",
        "s = requests.Session()\n",
        "\n",
        "start_urls = [\n",
        "    'https://www.tripadvisor.fr/Restaurant_Review-g661266-d8297622-Reviews-McDonald_s-Yutz_Moselle_Grand_Est.html',\n",
        "    'https://www.tripadvisor.fr/Restaurant_Review-g661266-d8297622-Reviews-or10-McDonald_s-Yutz_Moselle_Grand_Est.html',\n",
        "    'https://www.tripadvisor.fr/Restaurant_Review-g661266-d8297622-Reviews-or20-McDonald_s-Yutz_Moselle_Grand_Est.html',\n",
        "    'https://www.tripadvisor.fr/Restaurant_Review-g661266-d8297622-Reviews-or30-McDonald_s-Yutz_Moselle_Grand_Est.html',\n",
        "    'https://www.tripadvisor.fr/Restaurant_Review-g661266-d8297622-Reviews-or40-McDonald_s-Yutz_Moselle_Grand_Est.html',\n",
        "    'https://www.tripadvisor.fr/Restaurant_Review-g661266-d8297622-Reviews-or50-McDonald_s-Yutz_Moselle_Grand_Est.html',\n",
        "    'https://www.tripadvisor.fr/Restaurant_Review-g661266-d8297622-Reviews-or60-McDonald_s-Yutz_Moselle_Grand_Est.html',\n",
        "    'https://www.tripadvisor.fr/Restaurant_Review-g661266-d8297622-Reviews-or70-McDonald_s-Yutz_Moselle_Grand_Est.html',\n",
        "    'https://www.tripadvisor.fr/Restaurant_Review-g661266-d8297622-Reviews-or80-McDonald_s-Yutz_Moselle_Grand_Est.html',\n",
        "    'https://www.tripadvisor.fr/Restaurant_Review-g661266-d8297622-Reviews-or90-McDonald_s-Yutz_Moselle_Grand_Est.html',\n",
        "    'https://www.tripadvisor.fr/Restaurant_Review-g661266-d8297622-Reviews-or100-McDonald_s-Yutz_Moselle_Grand_Est.html',\n",
        "    'https://www.tripadvisor.fr/Restaurant_Review-g661266-d8297622-Reviews-or110-McDonald_s-Yutz_Moselle_Grand_Est.html',\n",
        "    'https://www.tripadvisor.fr/Restaurant_Review-g661266-d8297622-Reviews-or120-McDonald_s-Yutz_Moselle_Grand_Est.html',\n",
        "    'https://www.tripadvisor.fr/Restaurant_Review-g187147-d4358263-Reviews-Macdonald_s_Max_Dormoy-Paris_Ile_de_France.html',\n",
        "    'https://www.tripadvisor.fr/Restaurant_Review-g187147-d4358263-Reviews-or10-Macdonald_s_Max_Dormoy-Paris_Ile_de_France.html'\n",
        "]"
      ],
      "execution_count": null,
      "outputs": []
    },
    {
      "cell_type": "code",
      "metadata": {
        "id": "CE8EI6sDroMM"
      },
      "source": [
        "results = [] # <--- global list for items\n",
        "\n",
        "for url in start_urls:\n",
        "    parse(url, get_soup(url))\n",
        "\n",
        "import pandas as pd\n",
        "df = pd.DataFrame(results) # <--- convert list to DataFrame\n",
        "df[\"bubble_rating\"] = pd.to_numeric(df[\"bubble_rating\"])\n",
        "df['bubble_rating']=df['bubble_rating']/10\n",
        "\n",
        "df.to_csv('dataTripAdvisor.csv')    # <--- save in file"
      ],
      "execution_count": null,
      "outputs": []
    },
    {
      "cell_type": "markdown",
      "metadata": {
        "id": "CcVdfzaXroMa"
      },
      "source": [
        "# 2. Data preparation"
      ]
    },
    {
      "cell_type": "code",
      "metadata": {
        "id": "oqZ6uC_MroMb"
      },
      "source": [
        "import pandas as pd"
      ],
      "execution_count": null,
      "outputs": []
    },
    {
      "cell_type": "code",
      "metadata": {
        "id": "sNqLBCyFroMh"
      },
      "source": [
        "df = pd.read_csv('dataTripAdvisor.csv')"
      ],
      "execution_count": null,
      "outputs": []
    },
    {
      "cell_type": "code",
      "metadata": {
        "id": "-J54XVSeroMq",
        "colab": {
          "base_uri": "https://localhost:8080/",
          "height": 411
        },
        "outputId": "99142e45-9422-457c-813f-c19ad2a97136"
      },
      "source": [
        "df.head()"
      ],
      "execution_count": null,
      "outputs": [
        {
          "output_type": "execute_result",
          "data": {
            "text/html": [
              "<div>\n",
              "<style scoped>\n",
              "    .dataframe tbody tr th:only-of-type {\n",
              "        vertical-align: middle;\n",
              "    }\n",
              "\n",
              "    .dataframe tbody tr th {\n",
              "        vertical-align: top;\n",
              "    }\n",
              "\n",
              "    .dataframe thead th {\n",
              "        text-align: right;\n",
              "    }\n",
              "</style>\n",
              "<table border=\"1\" class=\"dataframe\">\n",
              "  <thead>\n",
              "    <tr style=\"text-align: right;\">\n",
              "      <th></th>\n",
              "      <th>Unnamed: 0</th>\n",
              "      <th>restaurant_name</th>\n",
              "      <th>review_title</th>\n",
              "      <th>review_body</th>\n",
              "      <th>review_date</th>\n",
              "      <th>num_reviews_reviewer</th>\n",
              "      <th>reviewer_name</th>\n",
              "      <th>bubble_rating</th>\n",
              "    </tr>\n",
              "  </thead>\n",
              "  <tbody>\n",
              "    <tr>\n",
              "      <th>0</th>\n",
              "      <td>0</td>\n",
              "      <td>McDonald's</td>\n",
              "      <td>Honteux</td>\n",
              "      <td>Personnels qui fume leurs clopes devant la por...</td>\n",
              "      <td>10 avril 2020</td>\n",
              "      <td>1 avis</td>\n",
              "      <td>pascala142</td>\n",
              "      <td>1.0</td>\n",
              "    </tr>\n",
              "    <tr>\n",
              "      <th>1</th>\n",
              "      <td>1</td>\n",
              "      <td>McDonald's</td>\n",
              "      <td>Désastreux !!!!!!</td>\n",
              "      <td>Hygiène exécrable!!!!\\nPersonnel d’une lenteur...</td>\n",
              "      <td>7 mars 2020</td>\n",
              "      <td>1 avis</td>\n",
              "      <td>ivanew2020</td>\n",
              "      <td>1.0</td>\n",
              "    </tr>\n",
              "    <tr>\n",
              "      <th>2</th>\n",
              "      <td>2</td>\n",
              "      <td>McDonald's</td>\n",
              "      <td>Désastreux...uniquement si vous mourrez de fai...</td>\n",
              "      <td>Arrive a 14h00 aujourd’hui au drive. Personne ...</td>\n",
              "      <td>19 février 2020</td>\n",
              "      <td>19 avis</td>\n",
              "      <td>LeSchrek</td>\n",
              "      <td>1.0</td>\n",
              "    </tr>\n",
              "    <tr>\n",
              "      <th>3</th>\n",
              "      <td>3</td>\n",
              "      <td>McDonald's</td>\n",
              "      <td>Macdo yutz</td>\n",
              "      <td>Je suis venu manger macdo à yutz avec mon neve...</td>\n",
              "      <td>16 février 2020</td>\n",
              "      <td>1 avis</td>\n",
              "      <td>chloebW3848IQ</td>\n",
              "      <td>1.0</td>\n",
              "    </tr>\n",
              "    <tr>\n",
              "      <th>4</th>\n",
              "      <td>4</td>\n",
              "      <td>McDonald's</td>\n",
              "      <td>le plus horrible des Mac Do</td>\n",
              "      <td>Je suis passé avec mon epouse samedi,c'etait é...</td>\n",
              "      <td>4 février 2020</td>\n",
              "      <td>1 avis</td>\n",
              "      <td>popinol</td>\n",
              "      <td>1.0</td>\n",
              "    </tr>\n",
              "  </tbody>\n",
              "</table>\n",
              "</div>"
            ],
            "text/plain": [
              "   Unnamed: 0 restaurant_name  ...  reviewer_name bubble_rating\n",
              "0           0      McDonald's  ...     pascala142           1.0\n",
              "1           1      McDonald's  ...     ivanew2020           1.0\n",
              "2           2      McDonald's  ...       LeSchrek           1.0\n",
              "3           3      McDonald's  ...  chloebW3848IQ           1.0\n",
              "4           4      McDonald's  ...        popinol           1.0\n",
              "\n",
              "[5 rows x 8 columns]"
            ]
          },
          "metadata": {
            "tags": []
          },
          "execution_count": 3
        }
      ]
    },
    {
      "cell_type": "code",
      "metadata": {
        "id": "Ebp4T6kSroMw"
      },
      "source": [
        "df=df.drop('Unnamed: 0', axis=1)"
      ],
      "execution_count": null,
      "outputs": []
    },
    {
      "cell_type": "code",
      "metadata": {
        "id": "QyVpuaPHroM5",
        "colab": {
          "base_uri": "https://localhost:8080/",
          "height": 34
        },
        "outputId": "5f4ffed7-34e2-4108-f791-5734e3ca6dee"
      },
      "source": [
        "df.shape"
      ],
      "execution_count": null,
      "outputs": [
        {
          "output_type": "execute_result",
          "data": {
            "text/plain": [
              "(139, 7)"
            ]
          },
          "metadata": {
            "tags": []
          },
          "execution_count": 5
        }
      ]
    },
    {
      "cell_type": "markdown",
      "metadata": {
        "id": "ml3iicT6roNA"
      },
      "source": [
        "## 2.1 Tokenization"
      ]
    },
    {
      "cell_type": "code",
      "metadata": {
        "id": "Yx0h4aEwroNB",
        "colab": {
          "base_uri": "https://localhost:8080/",
          "height": 51
        },
        "outputId": "69d60ea9-8da9-43b5-b983-53cf4e95298f"
      },
      "source": [
        "import nltk\n",
        "nltk.download('punkt')\n",
        "from nltk.tokenize import sent_tokenize, word_tokenize \n",
        "sentences = df['review_body'].apply(sent_tokenize)\n",
        "words = df['review_body'].apply(word_tokenize)"
      ],
      "execution_count": null,
      "outputs": [
        {
          "output_type": "stream",
          "text": [
            "[nltk_data] Downloading package punkt to /root/nltk_data...\n",
            "[nltk_data]   Unzipping tokenizers/punkt.zip.\n"
          ],
          "name": "stdout"
        }
      ]
    },
    {
      "cell_type": "markdown",
      "metadata": {
        "id": "iYY-3dkWroNU"
      },
      "source": [
        "## 2.2 Remove indesired ponctuation "
      ]
    },
    {
      "cell_type": "code",
      "metadata": {
        "id": "uBQKHQyKroNY"
      },
      "source": [
        "import string\n",
        "def remove_punctuation(text):\n",
        "    # replacing the punctuations with no space, \n",
        "    # which in effect deletes the punctuation marks \n",
        "    translator = str.maketrans('', '', string.punctuation)\n",
        "    # return the text stripped of punctuation marks\n",
        "    return text.translate(translator)"
      ],
      "execution_count": null,
      "outputs": []
    },
    {
      "cell_type": "code",
      "metadata": {
        "id": "jGoq71iMroNj"
      },
      "source": [
        "df['review_body']=df['review_body'].apply(remove_punctuation)"
      ],
      "execution_count": null,
      "outputs": []
    },
    {
      "cell_type": "markdown",
      "metadata": {
        "id": "1efhEs4NroNs"
      },
      "source": [
        "## 2.3 Remove stopwords"
      ]
    },
    {
      "cell_type": "code",
      "metadata": {
        "id": "gRtzphgXroNt",
        "colab": {
          "base_uri": "https://localhost:8080/",
          "height": 51
        },
        "outputId": "6722ed2d-2e6d-4684-9946-327734b68cd5"
      },
      "source": [
        "import nltk\n",
        "import re\n",
        "nltk.download('stopwords')\n",
        "from nltk.corpus import stopwords\n",
        "sw = stopwords.words('french')\n",
        "corpus=[]\n",
        "def stopwords(text):\n",
        "\n",
        "    \n",
        "    text = re.sub('[^a-zA-Z]', ' ', text)\n",
        "    \n",
        "    text = [word.lower() for word in text.split() if word.lower() not in sw]\n",
        "   \n",
        "    j=\" \".join(text)\n",
        "    corpus.append(j)\n",
        "    return j"
      ],
      "execution_count": null,
      "outputs": [
        {
          "output_type": "stream",
          "text": [
            "[nltk_data] Downloading package stopwords to /root/nltk_data...\n",
            "[nltk_data]   Unzipping corpora/stopwords.zip.\n"
          ],
          "name": "stdout"
        }
      ]
    },
    {
      "cell_type": "code",
      "metadata": {
        "id": "q3kLYTGoroNy"
      },
      "source": [
        "df['review_body']=df['review_body'].apply(stopwords)"
      ],
      "execution_count": null,
      "outputs": []
    },
    {
      "cell_type": "code",
      "metadata": {
        "id": "BnkAFXBzroN6",
        "colab": {
          "base_uri": "https://localhost:8080/",
          "height": 54
        },
        "outputId": "6cff74b0-10ca-44b4-8f16-57247640824e"
      },
      "source": [
        "df['review_body'][3]"
      ],
      "execution_count": null,
      "outputs": [
        {
          "output_type": "execute_result",
          "data": {
            "text/plain": [
              "'venu manger macdo yutz neveu macdo tais infecte sandwichs sauce tais tout froid poteries frite dur comme b personnel parlons dirait rienplus'"
            ]
          },
          "metadata": {
            "tags": []
          },
          "execution_count": 11
        }
      ]
    },
    {
      "cell_type": "markdown",
      "metadata": {
        "id": "b7g44cV5roOX"
      },
      "source": [
        "## 2.4 Lemmetization and Stemming"
      ]
    },
    {
      "cell_type": "code",
      "metadata": {
        "id": "0vNRGpdcroOY",
        "colab": {
          "base_uri": "https://localhost:8080/",
          "height": 51
        },
        "outputId": "66904727-7a5c-471f-87a1-e31c05b82a8e"
      },
      "source": [
        "import gensim\n",
        "import nltk\n",
        "nltk.download('wordnet')\n",
        "from nltk.stem import SnowballStemmer,WordNetLemmatizer\n",
        "def lemmatize_stemming(text):\n",
        "    stemmer=SnowballStemmer('french')\n",
        "    return stemmer.stem(WordNetLemmatizer().lemmatize(text, pos='v'))\n",
        "def preprocess(text):\n",
        "    result = []\n",
        "    for token in gensim.utils.simple_preprocess(text):\n",
        "        if token not in gensim.parsing.preprocessing.STOPWORDS and len(token) > 3:\n",
        "            result.append(lemmatize_stemming(token))\n",
        "    return result"
      ],
      "execution_count": null,
      "outputs": [
        {
          "output_type": "stream",
          "text": [
            "[nltk_data] Downloading package wordnet to /root/nltk_data...\n",
            "[nltk_data]   Unzipping corpora/wordnet.zip.\n"
          ],
          "name": "stdout"
        }
      ]
    },
    {
      "cell_type": "markdown",
      "metadata": {
        "id": "dgt3Rl-zroOe"
      },
      "source": [
        "# 3. Transformation saved"
      ]
    },
    {
      "cell_type": "code",
      "metadata": {
        "id": "5g3SefGMroOf",
        "colab": {
          "base_uri": "https://localhost:8080/",
          "height": 204
        },
        "outputId": "21e04625-0600-418d-b90a-eeb440806403"
      },
      "source": [
        "processed_docs = df['review_body'].map(preprocess)\n",
        "processed_docs[:10]"
      ],
      "execution_count": null,
      "outputs": [
        {
          "output_type": "execute_result",
          "data": {
            "text/plain": [
              "0    [personnel, fum, leur, clop, dev, port, dentr,...\n",
              "1    [hyg, crabl, personnel, lenteur, inimagin, per...\n",
              "2    [arriv, aujourd, driv, person, dev, plut, calm...\n",
              "3    [venu, mang, macdo, yutz, neveu, macdo, tais, ...\n",
              "4    [pass, epous, samedicet, tabl, nettoy, fait, b...\n",
              "5    [arriv, voitur, dev, pris, command, temp, gler...\n",
              "6    [bonsoir, met, souvent, avis, dern, rienc, fas...\n",
              "7    [sandwich, froid, touff, cheveux, potato, hont...\n",
              "8    [pir, restaur, con, toujour, minimum, dattent,...\n",
              "9    [pir, pir, dimanch, soir, minut, attent, driv,...\n",
              "Name: review_body, dtype: object"
            ]
          },
          "metadata": {
            "tags": []
          },
          "execution_count": 21
        }
      ]
    },
    {
      "cell_type": "markdown",
      "metadata": {
        "id": "CHHh1ghuroOm"
      },
      "source": [
        "# 4. Bag of words"
      ]
    },
    {
      "cell_type": "code",
      "metadata": {
        "id": "9rPLKh4uroOo",
        "colab": {
          "base_uri": "https://localhost:8080/",
          "height": 204
        },
        "outputId": "cb5fa2ab-d887-46b8-80f2-509602cd0b00"
      },
      "source": [
        "dictionary = gensim.corpora.Dictionary(processed_docs)\n",
        "count = 0\n",
        "for k, v in dictionary.iteritems():\n",
        "    print(k, v)\n",
        "    count += 1\n",
        "    if count > 10:\n",
        "        break\n",
        "\n",
        "        "
      ],
      "execution_count": null,
      "outputs": [
        {
          "output_type": "stream",
          "text": [
            "0 able\n",
            "1 cest\n",
            "2 client\n",
            "3 clop\n",
            "4 dentr\n",
            "5 dev\n",
            "6 fuir\n",
            "7 fum\n",
            "8 gueul\n",
            "9 honteux\n",
            "10 hyg\n"
          ],
          "name": "stdout"
        }
      ]
    },
    {
      "cell_type": "code",
      "metadata": {
        "id": "cqJiReXhroOw"
      },
      "source": [
        "dictionary.filter_extremes(no_below=15, no_above=0.5, keep_n=100000)"
      ],
      "execution_count": null,
      "outputs": []
    },
    {
      "cell_type": "markdown",
      "metadata": {
        "id": "IcAFW_oNroO1"
      },
      "source": [
        "# 5. Doc2bow"
      ]
    },
    {
      "cell_type": "code",
      "metadata": {
        "id": "pb6tTBo6roO1",
        "colab": {
          "base_uri": "https://localhost:8080/",
          "height": 51
        },
        "outputId": "68b0ed6e-0e45-4894-f480-f1809d07f44c"
      },
      "source": [
        "bow_corpus = [dictionary.doc2bow(doc) for doc in processed_docs]\n",
        "print(bow_corpus[5])\n",
        "print(bow_corpus[14])\n",
        "\n",
        "# turn our tokenized documents into a id <-> term dictionary\n",
        "dictionary = corpora.Dictionary(processed_docs)\n",
        "# convert tokenized documents into a document-term matrix\n",
        "bow_corpus = [dictionary.doc2bow(text) for text in processed_docs]"
      ],
      "execution_count": null,
      "outputs": [
        {
          "output_type": "stream",
          "text": [
            "[(0, 1), (4, 2), (7, 1)]\n",
            "[(2, 1), (6, 1), (10, 1), (12, 2)]\n"
          ],
          "name": "stdout"
        }
      ]
    },
    {
      "cell_type": "code",
      "metadata": {
        "id": "5Lh0v4GQb3Ef"
      },
      "source": [
        "list(dictionary.values());"
      ],
      "execution_count": null,
      "outputs": []
    },
    {
      "cell_type": "code",
      "metadata": {
        "id": "KD9vHsChroPB",
        "colab": {
          "base_uri": "https://localhost:8080/",
          "height": 85
        },
        "outputId": "ffbe24d1-b5e9-40b7-dc36-fcacda1061d2"
      },
      "source": [
        "bow_doc_14 = bow_corpus[14]\n",
        "for i in range(len(bow_doc_14)):\n",
        "    print(\"Word {} (\\\"{}\\\") appears {} time.\".format(bow_doc_14[i][0], \n",
        "                                               dictionary[bow_doc_14[i][0]], \n",
        "bow_doc_14[i][1]))"
      ],
      "execution_count": null,
      "outputs": [
        {
          "output_type": "stream",
          "text": [
            "Word 2 (\"personnel\") appears 1 time.\n",
            "Word 6 (\"attent\") appears 1 time.\n",
            "Word 10 (\"mang\") appears 1 time.\n",
            "Word 12 (\"tout\") appears 2 time.\n"
          ],
          "name": "stdout"
        }
      ]
    },
    {
      "cell_type": "markdown",
      "metadata": {
        "id": "iJpqemlaroPI"
      },
      "source": [
        "# 6. TF-ID"
      ]
    },
    {
      "cell_type": "code",
      "metadata": {
        "id": "7K6rlMeproPM",
        "colab": {
          "base_uri": "https://localhost:8080/",
          "height": 85
        },
        "outputId": "0c4c17f0-f8d1-499d-a718-2a50e8b41db2"
      },
      "source": [
        "\n",
        "tfidf = models.TfidfModel(bow_corpus)\n",
        "corpus_tfidf = tfidf[bow_corpus]\n",
        "from pprint import pprint\n",
        "for doc in corpus_tfidf:\n",
        "    pprint(doc)\n",
        "    break"
      ],
      "execution_count": null,
      "outputs": [
        {
          "output_type": "stream",
          "text": [
            "[(0, 0.4822917247005284),\n",
            " (1, 0.6405393825799295),\n",
            " (2, 0.42255413360273286),\n",
            " (3, 0.42255413360273286)]\n"
          ],
          "name": "stdout"
        }
      ]
    },
    {
      "cell_type": "markdown",
      "metadata": {
        "id": "9laed4s5roPU"
      },
      "source": [
        "# 7. LDA"
      ]
    },
    {
      "cell_type": "code",
      "metadata": {
        "id": "_1t4KTnyroPV"
      },
      "source": [
        "lda_model = gensim.models.LdaMulticore(bow_corpus, num_topics=10, id2word=dictionary,chunksize=100,iterations=25, passes=2, workers=4)"
      ],
      "execution_count": null,
      "outputs": []
    },
    {
      "cell_type": "code",
      "metadata": {
        "id": "PdMMLEBaroPc",
        "colab": {
          "base_uri": "https://localhost:8080/",
          "height": 377
        },
        "outputId": "5ea2d274-9d5d-49e8-b63e-7df9f4161a97"
      },
      "source": [
        "for idx, topic in lda_model.print_topics(-1):\n",
        "    print('Topic: {} \\nWords: {}'.format(idx, topic))"
      ],
      "execution_count": null,
      "outputs": [
        {
          "output_type": "stream",
          "text": [
            "Topic: 0 \n",
            "Words: 0.171*\"mang\" + 0.148*\"froid\" + 0.129*\"tout\" + 0.122*\"personnel\" + 0.099*\"frit\" + 0.063*\"restaur\" + 0.059*\"command\" + 0.050*\"sandwich\" + 0.050*\"serv\" + 0.032*\"cest\"\n",
            "Topic: 1 \n",
            "Words: 0.302*\"command\" + 0.134*\"driv\" + 0.088*\"fois\" + 0.078*\"personnel\" + 0.055*\"restaur\" + 0.046*\"mang\" + 0.046*\"tout\" + 0.034*\"attent\" + 0.034*\"cest\" + 0.029*\"manqu\"\n",
            "Topic: 2 \n",
            "Words: 0.144*\"command\" + 0.114*\"pass\" + 0.110*\"frit\" + 0.100*\"driv\" + 0.093*\"attent\" + 0.083*\"restaur\" + 0.076*\"personnel\" + 0.038*\"cest\" + 0.035*\"manqu\" + 0.034*\"toujour\"\n",
            "Topic: 3 \n",
            "Words: 0.209*\"tout\" + 0.128*\"cest\" + 0.099*\"command\" + 0.097*\"froid\" + 0.079*\"mang\" + 0.076*\"sandwich\" + 0.075*\"plus\" + 0.045*\"frit\" + 0.034*\"personnel\" + 0.029*\"pass\"\n",
            "Topic: 4 \n",
            "Words: 0.134*\"toujour\" + 0.115*\"pir\" + 0.099*\"pass\" + 0.075*\"cest\" + 0.075*\"tabl\" + 0.072*\"sal\" + 0.072*\"serv\" + 0.063*\"command\" + 0.057*\"sandwich\" + 0.044*\"tout\"\n",
            "Topic: 5 \n",
            "Words: 0.309*\"froid\" + 0.085*\"command\" + 0.082*\"sandwich\" + 0.078*\"toujour\" + 0.062*\"fois\" + 0.056*\"tout\" + 0.048*\"manqu\" + 0.047*\"plus\" + 0.038*\"serv\" + 0.034*\"pir\"\n",
            "Topic: 6 \n",
            "Words: 0.170*\"command\" + 0.136*\"manqu\" + 0.085*\"toujour\" + 0.079*\"plus\" + 0.069*\"fois\" + 0.061*\"frit\" + 0.058*\"cest\" + 0.049*\"pir\" + 0.044*\"personnel\" + 0.041*\"tabl\"\n",
            "Topic: 7 \n",
            "Words: 0.171*\"sal\" + 0.128*\"tabl\" + 0.115*\"attent\" + 0.102*\"personnel\" + 0.071*\"plus\" + 0.065*\"serv\" + 0.061*\"froid\" + 0.058*\"sandwich\" + 0.051*\"manqu\" + 0.047*\"command\"\n",
            "Topic: 8 \n",
            "Words: 0.146*\"plus\" + 0.119*\"fois\" + 0.112*\"driv\" + 0.110*\"pir\" + 0.101*\"frit\" + 0.098*\"toujour\" + 0.069*\"sandwich\" + 0.054*\"restaur\" + 0.049*\"tabl\" + 0.046*\"attent\"\n",
            "Topic: 9 \n",
            "Words: 0.174*\"client\" + 0.168*\"cest\" + 0.168*\"personnel\" + 0.158*\"restaur\" + 0.084*\"plus\" + 0.063*\"tabl\" + 0.058*\"manqu\" + 0.030*\"serv\" + 0.021*\"sal\" + 0.015*\"toujour\"\n"
          ],
          "name": "stdout"
        }
      ]
    },
    {
      "cell_type": "markdown",
      "metadata": {
        "id": "YZfY0X1croPl"
      },
      "source": [
        "# 8. LDA + TF_ID"
      ]
    },
    {
      "cell_type": "code",
      "metadata": {
        "id": "vT5IEoairoPm",
        "colab": {
          "base_uri": "https://localhost:8080/",
          "height": 207
        },
        "outputId": "79c05c45-e0ba-4ed1-cb70-21de90906103"
      },
      "source": [
        "lda_model_tfidf = gensim.models.LdaMulticore(corpus_tfidf, num_topics=10, id2word=dictionary,chunksize=100,iterations=25, passes=2, workers=4)\n",
        "for idx, topic in lda_model_tfidf.print_topics(-1):\n",
        "    print('Topic: {} Word: {}'.format(idx, topic))"
      ],
      "execution_count": null,
      "outputs": [
        {
          "output_type": "stream",
          "text": [
            "Topic: 0 Word: 0.265*\"froid\" + 0.186*\"mang\" + 0.134*\"sandwich\" + 0.078*\"toujour\" + 0.070*\"cest\" + 0.068*\"restaur\" + 0.029*\"command\" + 0.026*\"client\" + 0.024*\"attent\" + 0.022*\"manqu\"\n",
            "Topic: 1 Word: 0.207*\"toujour\" + 0.128*\"manqu\" + 0.101*\"driv\" + 0.094*\"cest\" + 0.084*\"command\" + 0.081*\"sandwich\" + 0.062*\"plus\" + 0.045*\"pir\" + 0.044*\"restaur\" + 0.036*\"personnel\"\n",
            "Topic: 2 Word: 0.173*\"tout\" + 0.150*\"froid\" + 0.095*\"sandwich\" + 0.095*\"serv\" + 0.093*\"command\" + 0.059*\"mang\" + 0.049*\"personnel\" + 0.041*\"sal\" + 0.040*\"attent\" + 0.036*\"frit\"\n",
            "Topic: 3 Word: 0.134*\"cest\" + 0.122*\"pir\" + 0.111*\"pass\" + 0.084*\"tout\" + 0.081*\"restaur\" + 0.069*\"plus\" + 0.064*\"tabl\" + 0.062*\"mang\" + 0.061*\"toujour\" + 0.055*\"driv\"\n",
            "Topic: 4 Word: 0.140*\"froid\" + 0.093*\"restaur\" + 0.078*\"sal\" + 0.073*\"frit\" + 0.071*\"serv\" + 0.068*\"pir\" + 0.060*\"manqu\" + 0.059*\"sandwich\" + 0.053*\"mang\" + 0.053*\"fois\"\n",
            "Topic: 5 Word: 0.242*\"frit\" + 0.166*\"fois\" + 0.106*\"driv\" + 0.094*\"manqu\" + 0.087*\"plus\" + 0.073*\"command\" + 0.049*\"attent\" + 0.034*\"toujour\" + 0.027*\"mang\" + 0.025*\"sandwich\"\n",
            "Topic: 6 Word: 0.243*\"personnel\" + 0.140*\"command\" + 0.097*\"pass\" + 0.079*\"pir\" + 0.077*\"driv\" + 0.064*\"sal\" + 0.055*\"fois\" + 0.047*\"toujour\" + 0.027*\"cest\" + 0.024*\"mang\"\n",
            "Topic: 7 Word: 0.254*\"client\" + 0.121*\"tabl\" + 0.114*\"restaur\" + 0.076*\"personnel\" + 0.059*\"plus\" + 0.049*\"serv\" + 0.039*\"pir\" + 0.031*\"toujour\" + 0.031*\"mang\" + 0.029*\"frit\"\n",
            "Topic: 8 Word: 0.166*\"cest\" + 0.148*\"sal\" + 0.102*\"client\" + 0.090*\"personnel\" + 0.079*\"tabl\" + 0.074*\"command\" + 0.065*\"pass\" + 0.056*\"plus\" + 0.054*\"restaur\" + 0.043*\"attent\"\n",
            "Topic: 9 Word: 0.158*\"plus\" + 0.154*\"attent\" + 0.128*\"restaur\" + 0.102*\"command\" + 0.065*\"serv\" + 0.057*\"personnel\" + 0.051*\"pass\" + 0.051*\"manqu\" + 0.034*\"mang\" + 0.032*\"tout\"\n"
          ],
          "name": "stdout"
        }
      ]
    },
    {
      "cell_type": "markdown",
      "metadata": {
        "id": "4qdwNnYsroPu"
      },
      "source": [
        "# 9. Evaluation"
      ]
    },
    {
      "cell_type": "markdown",
      "metadata": {
        "id": "SIz4kkTtroPv"
      },
      "source": [
        "## Evaluation using LDA Bag of Words model"
      ]
    },
    {
      "cell_type": "code",
      "metadata": {
        "id": "PW8D7MnUroPw",
        "colab": {
          "base_uri": "https://localhost:8080/",
          "height": 547
        },
        "outputId": "3ca2492f-3575-4170-9a2f-439f64305cf8"
      },
      "source": [
        "for index, score in sorted(lda_model[bow_corpus[14]], key=lambda tup: -1*tup[1]):\n",
        "    print(\"\\nScore: {}\\t \\nTopic: {}\".format(score, lda_model.print_topic(index, 10)))"
      ],
      "execution_count": null,
      "outputs": [
        {
          "output_type": "stream",
          "text": [
            "\n",
            "Score: 0.6330733299255371\t \n",
            "Topic: 0.171*\"mang\" + 0.148*\"froid\" + 0.129*\"tout\" + 0.122*\"personnel\" + 0.099*\"frit\" + 0.063*\"restaur\" + 0.059*\"command\" + 0.050*\"sandwich\" + 0.050*\"serv\" + 0.032*\"cest\"\n",
            "\n",
            "Score: 0.2335716336965561\t \n",
            "Topic: 0.171*\"sal\" + 0.128*\"tabl\" + 0.115*\"attent\" + 0.102*\"personnel\" + 0.071*\"plus\" + 0.065*\"serv\" + 0.061*\"froid\" + 0.058*\"sandwich\" + 0.051*\"manqu\" + 0.047*\"command\"\n",
            "\n",
            "Score: 0.016672134399414062\t \n",
            "Topic: 0.144*\"command\" + 0.114*\"pass\" + 0.110*\"frit\" + 0.100*\"driv\" + 0.093*\"attent\" + 0.083*\"restaur\" + 0.076*\"personnel\" + 0.038*\"cest\" + 0.035*\"manqu\" + 0.034*\"toujour\"\n",
            "\n",
            "Score: 0.016672035679221153\t \n",
            "Topic: 0.209*\"tout\" + 0.128*\"cest\" + 0.099*\"command\" + 0.097*\"froid\" + 0.079*\"mang\" + 0.076*\"sandwich\" + 0.075*\"plus\" + 0.045*\"frit\" + 0.034*\"personnel\" + 0.029*\"pass\"\n",
            "\n",
            "Score: 0.01666986756026745\t \n",
            "Topic: 0.302*\"command\" + 0.134*\"driv\" + 0.088*\"fois\" + 0.078*\"personnel\" + 0.055*\"restaur\" + 0.046*\"mang\" + 0.046*\"tout\" + 0.034*\"attent\" + 0.034*\"cest\" + 0.029*\"manqu\"\n",
            "\n",
            "Score: 0.016668783500790596\t \n",
            "Topic: 0.146*\"plus\" + 0.119*\"fois\" + 0.112*\"driv\" + 0.110*\"pir\" + 0.101*\"frit\" + 0.098*\"toujour\" + 0.069*\"sandwich\" + 0.054*\"restaur\" + 0.049*\"tabl\" + 0.046*\"attent\"\n",
            "\n",
            "Score: 0.016668541356921196\t \n",
            "Topic: 0.174*\"client\" + 0.168*\"cest\" + 0.168*\"personnel\" + 0.158*\"restaur\" + 0.084*\"plus\" + 0.063*\"tabl\" + 0.058*\"manqu\" + 0.030*\"serv\" + 0.021*\"sal\" + 0.015*\"toujour\"\n",
            "\n",
            "Score: 0.016668161377310753\t \n",
            "Topic: 0.134*\"toujour\" + 0.115*\"pir\" + 0.099*\"pass\" + 0.075*\"cest\" + 0.075*\"tabl\" + 0.072*\"sal\" + 0.072*\"serv\" + 0.063*\"command\" + 0.057*\"sandwich\" + 0.044*\"tout\"\n",
            "\n",
            "Score: 0.01666806824505329\t \n",
            "Topic: 0.309*\"froid\" + 0.085*\"command\" + 0.082*\"sandwich\" + 0.078*\"toujour\" + 0.062*\"fois\" + 0.056*\"tout\" + 0.048*\"manqu\" + 0.047*\"plus\" + 0.038*\"serv\" + 0.034*\"pir\"\n",
            "\n",
            "Score: 0.016667405143380165\t \n",
            "Topic: 0.170*\"command\" + 0.136*\"manqu\" + 0.085*\"toujour\" + 0.079*\"plus\" + 0.069*\"fois\" + 0.061*\"frit\" + 0.058*\"cest\" + 0.049*\"pir\" + 0.044*\"personnel\" + 0.041*\"tabl\"\n"
          ],
          "name": "stdout"
        }
      ]
    },
    {
      "cell_type": "markdown",
      "metadata": {
        "id": "G9qlW8GlroQW"
      },
      "source": [
        "## Evaluation using LDA TF-IDF model"
      ]
    },
    {
      "cell_type": "code",
      "metadata": {
        "id": "Z7DeC0KqroQ6",
        "colab": {
          "base_uri": "https://localhost:8080/",
          "height": 547
        },
        "outputId": "5ecc4580-c687-460b-8e83-6d87d03cfa05"
      },
      "source": [
        "for index, score in sorted(lda_model_tfidf[bow_corpus[14]], key=lambda tup: -1*tup[1]):\n",
        "    print(\"\\nScore: {}\\t \\nTopic: {}\".format(score, lda_model_tfidf.print_topic(index, 10)))\n"
      ],
      "execution_count": null,
      "outputs": [
        {
          "output_type": "stream",
          "text": [
            "\n",
            "Score: 0.8499695658683777\t \n",
            "Topic: 0.173*\"tout\" + 0.150*\"froid\" + 0.095*\"sandwich\" + 0.095*\"serv\" + 0.093*\"command\" + 0.059*\"mang\" + 0.049*\"personnel\" + 0.041*\"sal\" + 0.040*\"attent\" + 0.036*\"frit\"\n",
            "\n",
            "Score: 0.0166741032153368\t \n",
            "Topic: 0.158*\"plus\" + 0.154*\"attent\" + 0.128*\"restaur\" + 0.102*\"command\" + 0.065*\"serv\" + 0.057*\"personnel\" + 0.051*\"pass\" + 0.051*\"manqu\" + 0.034*\"mang\" + 0.032*\"tout\"\n",
            "\n",
            "Score: 0.01667359285056591\t \n",
            "Topic: 0.243*\"personnel\" + 0.140*\"command\" + 0.097*\"pass\" + 0.079*\"pir\" + 0.077*\"driv\" + 0.064*\"sal\" + 0.055*\"fois\" + 0.047*\"toujour\" + 0.027*\"cest\" + 0.024*\"mang\"\n",
            "\n",
            "Score: 0.016670508310198784\t \n",
            "Topic: 0.265*\"froid\" + 0.186*\"mang\" + 0.134*\"sandwich\" + 0.078*\"toujour\" + 0.070*\"cest\" + 0.068*\"restaur\" + 0.029*\"command\" + 0.026*\"client\" + 0.024*\"attent\" + 0.022*\"manqu\"\n",
            "\n",
            "Score: 0.01667034812271595\t \n",
            "Topic: 0.166*\"cest\" + 0.148*\"sal\" + 0.102*\"client\" + 0.090*\"personnel\" + 0.079*\"tabl\" + 0.074*\"command\" + 0.065*\"pass\" + 0.056*\"plus\" + 0.054*\"restaur\" + 0.043*\"attent\"\n",
            "\n",
            "Score: 0.01666877605021\t \n",
            "Topic: 0.254*\"client\" + 0.121*\"tabl\" + 0.114*\"restaur\" + 0.076*\"personnel\" + 0.059*\"plus\" + 0.049*\"serv\" + 0.039*\"pir\" + 0.031*\"toujour\" + 0.031*\"mang\" + 0.029*\"frit\"\n",
            "\n",
            "Score: 0.016668522730469704\t \n",
            "Topic: 0.134*\"cest\" + 0.122*\"pir\" + 0.111*\"pass\" + 0.084*\"tout\" + 0.081*\"restaur\" + 0.069*\"plus\" + 0.064*\"tabl\" + 0.062*\"mang\" + 0.061*\"toujour\" + 0.055*\"driv\"\n",
            "\n",
            "Score: 0.016668472439050674\t \n",
            "Topic: 0.242*\"frit\" + 0.166*\"fois\" + 0.106*\"driv\" + 0.094*\"manqu\" + 0.087*\"plus\" + 0.073*\"command\" + 0.049*\"attent\" + 0.034*\"toujour\" + 0.027*\"mang\" + 0.025*\"sandwich\"\n",
            "\n",
            "Score: 0.016668150201439857\t \n",
            "Topic: 0.140*\"froid\" + 0.093*\"restaur\" + 0.078*\"sal\" + 0.073*\"frit\" + 0.071*\"serv\" + 0.068*\"pir\" + 0.060*\"manqu\" + 0.059*\"sandwich\" + 0.053*\"mang\" + 0.053*\"fois\"\n",
            "\n",
            "Score: 0.016668008640408516\t \n",
            "Topic: 0.207*\"toujour\" + 0.128*\"manqu\" + 0.101*\"driv\" + 0.094*\"cest\" + 0.084*\"command\" + 0.081*\"sandwich\" + 0.062*\"plus\" + 0.045*\"pir\" + 0.044*\"restaur\" + 0.036*\"personnel\"\n"
          ],
          "name": "stdout"
        }
      ]
    },
    {
      "cell_type": "code",
      "metadata": {
        "id": "_7o2wF6cStz1",
        "colab": {
          "base_uri": "https://localhost:8080/",
          "height": 51
        },
        "outputId": "ca89b300-fd02-4d73-c597-bd2e2ba7de49"
      },
      "source": [
        "from gensim.models import CoherenceModel\n",
        "# Compute Coherence Score\n",
        "coherence_model_lda = CoherenceModel(model=lda_model_tfidf, texts=processed_docs, dictionary=dictionary, coherence='c_v')\n",
        "coherence_lda = coherence_model_lda.get_coherence()\n",
        "print('\\nCoherence Score: ', coherence_lda)"
      ],
      "execution_count": null,
      "outputs": [
        {
          "output_type": "stream",
          "text": [
            "\n",
            "Coherence Score:  0.21666423868157847\n"
          ],
          "name": "stdout"
        }
      ]
    },
    {
      "cell_type": "markdown",
      "metadata": {
        "id": "-ZCViAmAroRI"
      },
      "source": [
        "#  10.Test"
      ]
    },
    {
      "cell_type": "code",
      "metadata": {
        "id": "RPDGSMaCroRJ",
        "colab": {
          "base_uri": "https://localhost:8080/",
          "height": 207
        },
        "outputId": "e2b5faf7-a4ae-46e0-d18f-53ad461ced82"
      },
      "source": [
        "unseen_document = \"j'aime tout au macdo , fast food, endroit et atmosphère sont magnifiques \"\n",
        "bow_vector = dictionary.doc2bow(preprocess(unseen_document))\n",
        "for index, score in sorted(lda_model[bow_vector], key=lambda tup: -1*tup[1]):\n",
        "    print(\"Score: {}\\t Topic: {}\".format(score, lda_model.print_topic(index, 5)))"
      ],
      "execution_count": null,
      "outputs": [
        {
          "output_type": "stream",
          "text": [
            "Score: 0.5499685406684875\t Topic: 0.209*\"tout\" + 0.128*\"cest\" + 0.099*\"command\" + 0.097*\"froid\" + 0.079*\"mang\"\n",
            "Score: 0.05001497641205788\t Topic: 0.171*\"mang\" + 0.148*\"froid\" + 0.129*\"tout\" + 0.122*\"personnel\" + 0.099*\"frit\"\n",
            "Score: 0.05000494793057442\t Topic: 0.309*\"froid\" + 0.085*\"command\" + 0.082*\"sandwich\" + 0.078*\"toujour\" + 0.062*\"fois\"\n",
            "Score: 0.05000436678528786\t Topic: 0.302*\"command\" + 0.134*\"driv\" + 0.088*\"fois\" + 0.078*\"personnel\" + 0.055*\"restaur\"\n",
            "Score: 0.050003375858068466\t Topic: 0.134*\"toujour\" + 0.115*\"pir\" + 0.099*\"pass\" + 0.075*\"cest\" + 0.075*\"tabl\"\n",
            "Score: 0.050002824515104294\t Topic: 0.171*\"sal\" + 0.128*\"tabl\" + 0.115*\"attent\" + 0.102*\"personnel\" + 0.071*\"plus\"\n",
            "Score: 0.05000067874789238\t Topic: 0.144*\"command\" + 0.114*\"pass\" + 0.110*\"frit\" + 0.100*\"driv\" + 0.093*\"attent\"\n",
            "Score: 0.050000227987766266\t Topic: 0.146*\"plus\" + 0.119*\"fois\" + 0.112*\"driv\" + 0.110*\"pir\" + 0.101*\"frit\"\n",
            "Score: 0.05000005289912224\t Topic: 0.170*\"command\" + 0.136*\"manqu\" + 0.085*\"toujour\" + 0.079*\"plus\" + 0.069*\"fois\"\n",
            "Score: 0.05000000074505806\t Topic: 0.174*\"client\" + 0.168*\"cest\" + 0.168*\"personnel\" + 0.158*\"restaur\" + 0.084*\"plus\"\n"
          ],
          "name": "stdout"
        }
      ]
    },
    {
      "cell_type": "code",
      "metadata": {
        "id": "A8m5C2lCVXmH",
        "colab": {
          "base_uri": "https://localhost:8080/",
          "height": 51
        },
        "outputId": "bba789fb-4a5c-4b81-a74c-d1543e14646f"
      },
      "source": [
        "coherence_model_lda = CoherenceModel(model=lda_model_tfidf, texts=processed_docs, dictionary=dictionary, coherence='c_v')\n",
        "coherence_lda = coherence_model_lda.get_coherence()\n",
        "print('\\nCoherence Score: ', coherence_lda)"
      ],
      "execution_count": null,
      "outputs": [
        {
          "output_type": "stream",
          "text": [
            "\n",
            "Coherence Score:  0.21666423868157847\n"
          ],
          "name": "stdout"
        }
      ]
    },
    {
      "cell_type": "code",
      "metadata": {
        "id": "8RMkKrVzVinK",
        "colab": {
          "base_uri": "https://localhost:8080/",
          "height": 682
        },
        "outputId": "ef4aa182-221a-4870-9829-27fce5a86064"
      },
      "source": [
        " #Load the library with the CountVectorizer method\n",
        "from sklearn.feature_extraction.text import CountVectorizer\n",
        "import numpy as np\n",
        "import matplotlib.pyplot as plt\n",
        "import seaborn as sns\n",
        "sns.set_style('whitegrid')\n",
        "%matplotlib inline\n",
        "# Helper function\n",
        "def plot_10_most_common_words(count_data, count_vectorizer):\n",
        "    import matplotlib.pyplot as plt\n",
        "    words = count_vectorizer.get_feature_names()\n",
        "    total_counts = np.zeros(len(words))\n",
        "    for t in count_data:\n",
        "        total_counts+=t.toarray()[0]\n",
        "    \n",
        "    count_dict = (zip(words, total_counts))\n",
        "    count_dict = sorted(count_dict, key=lambda x:x[1], reverse=True)[0:10]\n",
        "    words = [w[0] for w in count_dict]\n",
        "    counts = [w[1] for w in count_dict]\n",
        "    x_pos = np.arange(len(words)) \n",
        "    \n",
        "    plt.figure(2, figsize=(15, 15/1.6180))\n",
        "    plt.subplot(title='10 most common words')\n",
        "    sns.set_context(\"notebook\", font_scale=1.25, rc={\"lines.linewidth\": 2.5})\n",
        "    sns.barplot(x_pos, counts, palette='husl')\n",
        "    plt.xticks(x_pos, words, rotation=90) \n",
        "    plt.xlabel('words')\n",
        "    plt.ylabel('counts')\n",
        "    plt.show()\n",
        "# Initialise the count vectorizer with the English stop words\n",
        "count_vectorizer = CountVectorizer(stop_words=['french'])\n",
        "# Fit and transform the processed titles\n",
        "count_data = count_vectorizer.fit_transform(df['review_body'])\n",
        "# Visualise the 10 most common words\n",
        "plot_10_most_common_words(count_data, count_vectorizer)"
      ],
      "execution_count": null,
      "outputs": [
        {
          "output_type": "stream",
          "text": [
            "/usr/local/lib/python3.6/dist-packages/statsmodels/tools/_testing.py:19: FutureWarning: pandas.util.testing is deprecated. Use the functions in the public API at pandas.testing instead.\n",
            "  import pandas.util.testing as tm\n"
          ],
          "name": "stderr"
        },
        {
          "output_type": "display_data",
          "data": {
            "image/png": "[encoded data removed]",
            "text/plain": [
              "<Figure size 1080x667.491 with 1 Axes>"
            ]
          },
          "metadata": {
            "tags": [],
            "needs_background": "light"
          }
        }
      ]
    },
    {
      "cell_type": "markdown",
      "metadata": {
        "id": "KX8j96u-dZs0"
      },
      "source": [
        "A propos de Mac'DO, on constate que les internautes sur TripAdvisor parlent souvent de leurs commandes établis, ils critiques aussi le personnel et le restaurant en général ."
      ]
    }
  ]
}